{
 "cells": [
  {
   "cell_type": "markdown",
   "id": "f81b835f",
   "metadata": {},
   "source": [
    "# TP1 - Aplicaciones Computacionales en Negocios\n",
    "\n",
    "Integrantes: Aufiero Rawson Catalina, Chen Belén D., Ferreiro Grau Luna"
   ]
  },
  {
   "cell_type": "markdown",
   "id": "0d0e7a51",
   "metadata": {},
   "source": [
    "#### Ejercicio 2\n",
    "Si el promedio de arribos es 1 avión por hora → lambda = 18/1080 = 1/60 = 0,016 (6 periodico)"
   ]
  },
  {
   "cell_type": "markdown",
   "id": "d112e90c",
   "metadata": {},
   "source": [
    "#### Ejercicio 3\n",
    "**Verificación de manera analítica del resultado**\n",
    "\n",
    "\n",
    "Defino Xi (Bernoulli) como la variable \"hubo arribo en el minuto i\" con P(X=1) = lambda\n",
    "\n",
    "\n",
    "En una hora hay n = 60 minutos -> el numero de arribos por hora se transforma en N = sum(i=1 hasta 60 de Xi) ~ Binom( p=lambda, n=60 )\n",
    "\n",
    "\n",
    "La proba de que hayan k arribos en una hora es exactamente:\n",
    "\n",
    "\n",
    "P(N = k) = numComb(60, k) * lambda^k * (1-lambda)^60-k \n",
    "\n",
    "\n",
    "Con lambda = 1/60 y k = 5 entonces:\n",
    "\n",
    "\n",
    "P(N = 5) = numComb(60, 5) * 1/60^5 * (59/60)^55 ~= 0.0027868"
   ]
  },
  {
   "cell_type": "markdown",
   "id": "0ad3392f",
   "metadata": {},
   "source": []
  }
 ],
 "metadata": {
  "language_info": {
   "name": "python"
  }
 },
 "nbformat": 4,
 "nbformat_minor": 5
}
